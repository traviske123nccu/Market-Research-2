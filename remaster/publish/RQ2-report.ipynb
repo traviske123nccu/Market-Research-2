{
 "cells": [
  {
   "cell_type": "markdown",
   "id": "16bc5992-cf38-477e-a4dc-dd4c411c7e2c",
   "metadata": {},
   "source": [
    "# Research Question 2: Can Google Trends data predict whether trading volume will be high next week?"
   ]
  },
  {
   "cell_type": "markdown",
   "id": "4d28343a-a5c6-4950-9a87-10a0c6961769",
   "metadata": {},
   "source": [
    "To address Research Question 2, we investigate whether investor attention—quantified through Google Trends search volume indexes—can be used to predict short-term fluctuations in stock trading activity. Specifically, we test whether current or lagged values of attention indexes improve the accuracy of next-week trading volume forecasts across different types of stocks, including ETFs, large-cap firms, and beginner-targeted equities. Our approach involves constructing a supervised learning framework where lagged attention variables serve as predictors, and normalized trading volume in the following week is the target. We evaluate predictive performance using standard forecasting metrics such as Mean Squared Error (MSE) for continuous models, and optionally classification accuracy or AUC if trading volume is discretized into high/low categories. To contextualize the value of attention data, we compare its performance against traditional autoregressive baselines that rely only on past volume data. This setup allows us to determine not only whether attention contains forward-looking information, but also whether that information adds measurable forecasting power relative to historical price-and-volume-only models."
   ]
  },
  {
   "cell_type": "markdown",
   "id": "327d6742-82f4-41f3-9156-db6b247dc60f",
   "metadata": {},
   "source": [
    "## Linear Regression Model"
   ]
  },
  {
   "cell_type": "markdown",
   "id": "d3feeccd-9616-4cb8-8960-0d9d56f9a721",
   "metadata": {},
   "source": [
    "To evaluate the predictive power of attention-based features in forecasting next-week trading volume, we begin with a linear regression framework. This model treats trading volume as a continuous variable and estimates its magnitude based on three sets of predictors: lagged trading volume (baseline), attention indexes derived from Google Trends (attention-only), and a combination of both. Linear regression provides a simple and interpretable benchmark for understanding how well attention signals explain variations in future volume relative to market-based indicators. Model performance is assessed using Root Mean Squared Error (RMSE) on a time-based test split."
   ]
  },
  {
   "cell_type": "markdown",
   "id": "336675c3-e5ff-4416-a814-8d1a40a8fcfa",
   "metadata": {},
   "source": [
    "### Linear Regression Model Comparison and Interpretation\n",
    "\n",
    "The RMSE comparison reveals that the model using only lagged trading volume achieves the best predictive performance, with an RMSE of approximately 0.756. In contrast, the attention-only model performs worse, with an RMSE of 0.834, indicating that while investor attention data captures some relevant signals, it is less effective than historical volume data for forecasting next-week trading activity. Surprisingly, the combined model, which integrates both lagged attention and volume features, does not outperform the volume-only baseline—it produces an RMSE of 0.835, slightly worse than using attention alone. This suggests that the attention signals may introduce noise or multicollinearity when added alongside volume data, rather than offering additive predictive value in this linear setting. These results highlight the importance of benchmarking attention-based models against simple baselines and caution against assuming that more features always improve forecasting accuracy. Further exploration using nonlinear models or feature selection may help clarify whether attention data can enhance predictive power when used more selectively or interactively.\n",
    "\n",
    "While linear regression offers insight into how attention signals explain continuous variation in trading volume, it does not capture whether these signals can accurately classify upcoming periods of heightened trading activity. To examine the directional predictability of attention-based features, we next reframe the task as a binary classification problem and assess model performance using logistic regression.\n",
    "\n",
    "\n",
    "\n",
    "\n",
    "\n",
    "\n",
    "\n",
    "\n"
   ]
  },
  {
   "cell_type": "markdown",
   "id": "c1454b92-c7c5-4e9c-b982-f5eab60beb06",
   "metadata": {},
   "source": [
    "## Logistic Regression Model"
   ]
  },
  {
   "cell_type": "markdown",
   "id": "eb33c7b9-91d7-4deb-9840-169c80e55981",
   "metadata": {},
   "source": [
    "To assess whether attention data can classify future trading activity into high or low volume categories, we implement logistic regression models. This approach transforms the regression target into a binary outcome and allows us to evaluate the directional forecasting ability of different feature sets. We compare three specifications: a volume-only model using lagged volume, an attention-only model using six thematic attention indexes, and a combined model. Each is evaluated using AUC, accuracy, and confusion matrices. Logistic regression serves as a baseline classification method for testing whether attention signals meaningfully distinguish between high and low volume periods."
   ]
  },
  {
   "cell_type": "markdown",
   "id": "38381c9d-9237-413a-bb63-1c58db624783",
   "metadata": {},
   "source": [
    "### Interpretation: Classification Models for Predicting High Trading Volume\n",
    "\n",
    "The classification analysis reveals mixed performance across models, with none achieving particularly strong predictive power. Among the three logistic regression classifiers, the Attention-Only and Combined Attention+Volume models performed similarly, both reaching an AUC of 0.444 and an accuracy of 0.4667. This is only slightly above random guessing (accuracy = 0.5, AUC = 0.5) and indicates limited but slightly better-than-chance discriminative power.\n",
    "\n",
    "In contrast, the Volume-Only model exhibited an AUC of 0.2963 and lower accuracy of 0.40, suggesting that recent volume movements alone may not be helpful—indeed, even counterproductive—for predicting next-week volume direction in this binary setting. This is further supported by its confusion matrix, which shows extreme imbalance: the model predicted almost all outcomes as “high volume” regardless of actual labels, failing to distinguish between classes.\n",
    "\n",
    "The confusion matrices for both the Attention-Only and Combined classifiers show some variance in prediction but still struggle with false negatives—frequently misclassifying high-volume weeks as low. Notably, the Combined model did not improve upon the Attention-Only model, which implies that in a linear classification setting, attention data alone captures most of the weak predictive signal available.\n",
    "\n",
    "Overall, these results indicate that while attention-related data may contain some marginally useful information for forecasting volume direction, its predictive power remains limited and fragile. Traditional features like lagged volume do not help much in this classification context and might even degrade model performance. This highlights the potential need for more complex models (e.g., nonlinear classifiers), longer lags, or alternative feature engineering to extract stronger signals.\n",
    "\n",
    "Although logistic regression offers a useful linear benchmark, it may fail to capture nonlinear relationships or interactions between attention indexes and trading volume. To address this limitation, we extend the analysis using Random Forest classifiers, which allow for more flexible modeling of complex, non-additive patterns in the data."
   ]
  },
  {
   "cell_type": "markdown",
   "id": "75d7e494-dd46-42cd-96cf-4d58d5124553",
   "metadata": {},
   "source": [
    "## Nonlinear Classification Model - Random Forest"
   ]
  },
  {
   "cell_type": "markdown",
   "id": "adcb441f-af35-4180-a6a8-c32ac63ac69e",
   "metadata": {},
   "source": [
    "To explore potential nonlinear relationships and interactions between attention and volume features, we extend our classification analysis using Random Forest classifiers. Random Forests are well-suited for capturing complex patterns and can help reveal whether attention indexes contribute predictive value beyond what linear models detect. We apply the same three model structures—volume-only, attention-only, and combined—and evaluate their performance using AUC, accuracy, and confusion matrix visualizations. This analysis tests whether nonlinear modeling unlocks additional forecasting power from attention-based inputs, particularly in low-signal, small-sample settings.\n",
    "\n"
   ]
  },
  {
   "cell_type": "markdown",
   "id": "bae81ec8-9053-45af-880d-6d5c0c56f0c0",
   "metadata": {},
   "source": [
    "### Random Forest vs Logistic Regression: Classification Model Comparison\n",
    "The application of Random Forest classifiers in this study reveals a more nuanced landscape of predictive performance compared to the earlier linear models. Among the Random Forest models, the Volume-Only model achieves the highest performance with an AUC of 0.6481 and accuracy of 0.5333, outperforming both the Attention-Only and Combined models. This is a notable reversal from the logistic regression results, where the attention-based mode\n",
    "ls performed marginally better than volume-based predictions.\n",
    "\n",
    "The improved AUC in the Volume-Only RF model suggests that Random Forest is better able to capture nonlinear relationships and threshold effects within historical volume patterns that linear models could not exploit. Its confusion matrix also reflects a more balanced classification across both classes, avoiding the extreme bias seen in the volume-only logistic regression.\n",
    "\n",
    "In contrast, the Attention-Only Random Forest model reaches an AUC of 0.3889, which is slightly worse than its linear counterpart (AUC = 0.4444). Similarly, the Combined model (Attention + Volume) fails to improve performance, with an AUC of 0.3611, suggesting that attention data, when added to volume, may introduce noise or overfitting in a small-sample nonlinear setting.\n",
    "\n",
    "Importantly, despite the Random Forest's theoretical ability to model interactions, the Combined model again fails to outperform simpler alternatives, indicating that the predictive value of attention data may be too weak or unstable in this context. The fact that volume data alone shows the greatest gains when passed through a nonlinear model also underscores that volume patterns may carry richer latent signals than attention scores—at least for predicting the direction of next-week trading activity.\n",
    "\n"
   ]
  },
  {
   "cell_type": "markdown",
   "id": "39233bd2-d3d5-4bfa-adbc-81435c5d9422",
   "metadata": {},
   "source": [
    "### Feature Importance Interpretation: Random Forest Models\n",
    "The Random Forest feature importance plots offer insight into which variables were most influential in predicting next-week trading volume direction. In the Attention-Only RF model, the most predictive feature was the Macro Attention Index, followed closely by Tech and Stock Attention Indexes. This indicates that investors’ search interest in macroeconomic and sector-specific themes may contain relatively stronger signals about future trading activity than general or retail-oriented themes (like beginner or dividend attention), which were less influential.\n",
    "\n",
    "Interestingly, when we include lagged volume in the Combined Attention + Volume RF model, the attention features continue to dominate the top importance rankings. Macro Attention Index again ranks first, with Tech and Stock Attention Indexes retaining high importance. The lagged volume feature, while somewhat informative, only ranks fourth—suggesting that Random Forest did not find substantial nonlinear patterns in volume alone strong enough to outweigh thematic attention data.\n",
    "\n",
    "However, this relative ranking should be viewed in light of the overall weak predictive performance of the combined model (AUC = 0.3611). Although attention features appear important within the model structure, the final classification accuracy and AUC remained low. This may reflect overfitting or that no single feature set provided consistently strong signal in the limited-sample, noisy classification context.\n",
    "\n",
    "In sum, Macro and Tech attention dominate in terms of feature contribution, but their standalone predictive utility remains modest. Their relative prominence suggests potential value in attention segmentation—but also highlights the need for richer or more targeted features to achieve reliable prediction.\n",
    "\n"
   ]
  },
  {
   "cell_type": "markdown",
   "id": "8916456c-218a-49c5-bc61-3c526a7aa04b",
   "metadata": {},
   "source": [
    "## Conclusion: RQ2 – Can Google Trends Data Predict Whether Trading Volume Will Be High Next Week?\n",
    "\n",
    "The analysis of RQ2 aimed to evaluate whether attention-based signals from Google Trends could predict next-week trading volume direction in financial markets. Across both linear (logistic regression) and nonlinear (random forest) classifiers, the results consistently showed that while attention-related features provided marginal improvements over random guessing, they lacked strong predictive power. In logistic regression, attention-only and combined models achieved modest AUCs (both ~0.44), while volume-only models underperformed (AUC = 0.30), suggesting some linear signal in thematic search interest. However, in the random forest models, the situation reversed: volume-only features performed best (AUC = 0.65), while attention signals failed to add value or even diluted model accuracy.\n",
    "\n",
    "Feature importance analysis confirmed that certain attention categories—especially macroeconomic and tech-related keywords—held relatively more importance within models, yet this did not translate into meaningful classification gains. The models’ consistently low accuracies and shallow ROC curves underscore the difficulty of using short-lag attention data alone to anticipate directional shifts in trading activity on a week-ahead basis.\n",
    "\n",
    "In sum, while thematic Google search trends may reflect latent investor sentiment, they do not offer reliable standalone signals for binary prediction of volume surges in the short term. Attention-based data may still hold potential when combined with richer market features, more granular time horizons, or in regression-based frameworks that forecast magnitudes rather than direction. Further research could explore higher-frequency attention dynamics, multi-lag temporal stacking, or hybrid deep learning models to better capture the behavioral-financial linkage."
   ]
  }
 ],
 "metadata": {
  "kernelspec": {
   "display_name": "Python [conda env:base] *",
   "language": "python",
   "name": "conda-base-py"
  },
  "language_info": {
   "codemirror_mode": {
    "name": "ipython",
    "version": 3
   },
   "file_extension": ".py",
   "mimetype": "text/x-python",
   "name": "python",
   "nbconvert_exporter": "python",
   "pygments_lexer": "ipython3",
   "version": "3.12.2"
  }
 },
 "nbformat": 4,
 "nbformat_minor": 5
}
