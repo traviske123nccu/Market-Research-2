{
 "cells": [
  {
   "cell_type": "markdown",
   "id": "f9c038d3-c1cc-4cae-9d48-ae88e8f1fa7a",
   "metadata": {},
   "source": [
    "# Research Question 1 - Does investor attention (from Google Trends) align with trading volume?"
   ]
  },
  {
   "cell_type": "markdown",
   "id": "6f9ca83c-9b71-44ee-8d21-ea54949485e0",
   "metadata": {},
   "source": [
    "- Do trends in attention-related keywords correlate with, or precede, changes in stock or ETF trading volume?\n",
    "\n",
    "- Is there any predictive or causal relationship between attention and volume?"
   ]
  },
  {
   "cell_type": "markdown",
   "id": "586bf2ac-b054-4282-83e9-ccb982f0e1fb",
   "metadata": {},
   "source": [
    "## Time Series Trend Analysis"
   ]
  },
  {
   "cell_type": "markdown",
   "id": "14e9ffef-4745-4e59-8f45-1c32c2de0f4b",
   "metadata": {},
   "source": [
    "To investigate whether investor attention aligns with or predicts trading activity (RQ1), we generate separate time series plots for each thematic attention index alongside the normalized trading volumes of its related stocks. By isolating each attention index and its corresponding tickers in individual figures, we gain a clearer visual understanding of co-movement patterns without the visual clutter of overlapping themes. This disaggregated view allows us to detect whether attention surges (e.g., search spikes in ETF-related keywords) precede or coincide with volume spikes in associated tickers. Such visual diagnostics offer preliminary insights into the potential behavioral link between retail investor attention and market participation, forming the basis for subsequent statistical tests of correlation and causality."
   ]
  },
  {
   "cell_type": "markdown",
   "id": "9200605b-c399-41c8-9b03-c8047158bd26",
   "metadata": {},
   "source": [
    "### Time Series Comparison Between Attention Indexes and Trading Volume of Related Stocks\n",
    "\n",
    "The figure above illustrates the temporal relationship between six thematic Attention Indexes (constructed from Google Trends) and the normalized trading volumes of associated TWSE-listed stocks throughout 2024. Each subplot corresponds to a different investment theme—ETFs, individual stocks, dividends, beginner-friendly picks, macro-sensitive sectors, and technology. In each case, the black solid line represents the attention index, while dashed colored lines depict the weekly normalized trading volumes of 2–5 related tickers.\n",
    "\n",
    "Visual inspection reveals several instances of alignment between attention spikes and volume surges, particularly for the ETF and stock-related panels, suggesting that increases in search interest may precede or coincide with trading activity. Notably, attention peaks in March and July often correspond to volume spikes across multiple tickers, supporting the hypothesis that investor attention may be a leading indicator of trading behavior. This preliminary observation motivates further statistical testing for lagged correlation or causal influence, as posed in Research Question 1."
   ]
  },
  {
   "cell_type": "markdown",
   "id": "fdb0e30c-ed57-4ae5-824a-6f5ee93a150c",
   "metadata": {},
   "source": [
    "## Correlation Analysis\n",
    "\n",
    "To quantitatively assess the relationship between investor attention and trading behavior, we compute a Pearson correlation matrix between the attention indexes and the normalized trading volumes of related stocks. Specifically, we extract all columns corresponding to volume and attention, and apply the DataFrame.corrwith() method to measure linear associations across time. The resulting correlation matrix is then visualized using a heatmap, where each cell indicates the strength and direction of correlation between a given stock’s trading volume and an attention index. This approach enables us to identify which themes of investor attention (e.g., dividend-related or macro-related) are most strongly linked to observed trading activity, thus offering an empirical foundation for answering RQ1. High positive correlations suggest that investor interest, as proxied by Google search volume, may co-move or even lead trading volume patterns."
   ]
  },
  {
   "cell_type": "markdown",
   "id": "468bd5c1-ff75-48a8-a4e2-8d6f321d5129",
   "metadata": {},
   "source": [
    "### Interpreting the Link Between Retail Attention and Trading Volume: Evidence from Correlation Patterns\n",
    "\n",
    "The correlation heatmap reveals varying degrees of association between thematic attention indexes and the normalized trading volumes of corresponding TWSE-listed stocks. Notably, the Beginner Attention Index exhibits the strongest positive correlations, particularly with 3034.TW (r = 0.61), 2454.TW (r = 0.41), and 00878.TW (r = 0.16), suggesting that spikes in beginner-related search interest may coincide with or lead to increased trading activity in these stocks. Similarly, the Stock Attention Index shows moderate-to-strong positive correlations across several stocks, with 2412.TW (r = 0.45), 2882.TW (r = 0.51), and 2881.TW (r = 0.44) standing out, supporting the idea that general retail attention to “stock” topics aligns with actual market behavior. On the other hand, attention indexes tied to macro and tech topics display weaker and more dispersed correlations, implying that these themes may not drive immediate trading volume to the same extent. The observed heterogeneity across themes and tickers highlights the need for further temporal analysis, such as lagged correlations or Granger causality, to better understand whether attention truly precedes volume changes or merely reflects them."
   ]
  },
  {
   "cell_type": "markdown",
   "id": "60a7dda1-b172-4725-bd31-4e8a72131248",
   "metadata": {},
   "source": [
    "## Causality Analysis"
   ]
  },
  {
   "cell_type": "markdown",
   "id": "3f23f6ea-23ba-4970-9c9d-4cca5420fa8e",
   "metadata": {},
   "source": [
    "To test for predictive relationships between investor attention and trading activity, we conduct a series of Granger causality tests using each attention index and its associated stock trading volumes. Specifically, we examine whether past values of each attention index help forecast current trading volume, controlling for up to two lags. For each attention–volume pair, we extract p-values from the Chi-squared test statistics at multiple lags and assess significance at the 5% level. The results are compiled into a structured summary table that highlights statistically significant causal relationships, helping us determine not just correlation but potential directional influence. This approach is essential for addressing RQ1 from a causal inference perspective, identifying which types of retail attention may serve as leading indicators of trading activity. All outputs are displayed in Jupyter and exported for further review or reporting."
   ]
  },
  {
   "cell_type": "markdown",
   "id": "ac8ae564-e1fa-493b-9b08-f0ef417f905c",
   "metadata": {},
   "source": [
    "### Granger Causality Reveals Predictive Power of Investor Attention on Trading Activity\n",
    "\n",
    "Based on the Granger causality test results summarized in the table, several attention indexes exhibit statistically significant predictive power over corresponding trading volumes, particularly at lag lengths of 1 and 2 weeks. For example, the ETF Attention Index significantly Granger-causes the trading volumes of 0050.TW and 006208.TW at both lag levels (p < 0.01), suggesting that increased public interest in ETFs—as measured by Google search trends—can help forecast short-term fluctuations in ETF trading activity. Similar patterns emerge in the Stock Attention Index, which shows strong predictive effects on blue-chip tickers like 2330.TW and 2412.TW. These findings support the hypothesis that investor attention contains informational content that precedes market behavior. However, not all attention–volume pairs yield significant results, indicating that the predictive power of attention may be theme- or stock-specific. This highlights the importance of tailoring attention-based forecasting models to the characteristics of specific asset classes or investor segments."
   ]
  },
  {
   "cell_type": "markdown",
   "id": "0b42f7a1-9a72-46cb-93d7-ba8a692c417d",
   "metadata": {},
   "source": [
    "## Reverse Causality"
   ]
  },
  {
   "cell_type": "markdown",
   "id": "f659c9a5-b37d-49d8-bcaa-afa84dd530a6",
   "metadata": {},
   "source": [
    "To evaluate the possibility of reverse causality—namely, whether changes in trading volume can predict shifts in investor attention—we perform a series of Granger causality tests in the direction of volume → attention. For each attention index and a selected subset of key tickers (e.g., 0050.TW and 2330.TW), we test whether past values of trading volume can help forecast attention levels over one- and two-week lags. The results are summarized into a table containing p-values and significance flags for each pair. This analysis helps distinguish whether investor attention is purely reactive or whether it may be shaped by preceding market activity, thereby providing a more complete view of the dynamic interaction between behavioral and transactional signals."
   ]
  },
  {
   "cell_type": "markdown",
   "id": "0050cdf2-3504-4c26-81d3-9272e197881c",
   "metadata": {},
   "source": [
    "### Reverse Causality Evidence: Trading Volume as a Predictor of Investor Attention\n",
    "\n",
    "The results of the reverse Granger causality tests indicate that changes in trading volume can significantly predict future shifts in investor attention across different thematic indexes. Remarkably, the results reveal consistently low p-values (all < 0.02), with the strongest predictive signals observed for 2330.TW across multiple attention themes. For instance, trading volume in 2330.TW significantly Granger-causes attention shifts in the Stock, ETF, and Dividend Attention Indexes (p = 0.00000 to 0.0002), suggesting that heightened trading activity in Taiwan's most prominent semiconductor stock may precede and possibly drive broader public search behavior. Even for 0050.TW, a passive ETF, the pattern holds: volume fluctuations appear to significantly influence attention across nearly all categories tested. These findings challenge the conventional assumption that attention always leads volume, suggesting instead a potentially bidirectional feedback loop between market activity and retail interest."
   ]
  },
  {
   "cell_type": "markdown",
   "id": "382baf15-b494-44c4-9dfb-ab13cb467dfc",
   "metadata": {},
   "source": [
    "## Conclusion for Research Question 1, Does Investor Attention (from Google Trends) Align with Trading Volume?\n",
    "\n",
    "The empirical results for RQ1 reveal a complex yet compelling relationship between investor attention—proxied by Google search activity—and actual trading behavior in the Taiwanese stock market. Through time series visualization, we observe that surges in attention index values frequently coincide with, or slightly precede, notable increases in trading volume for thematically related tickers. This qualitative signal is reinforced by the correlation analysis, which uncovers moderate to strong positive associations between several attention indexes and the trading volumes of representative stocks, particularly in beginner-friendly, stock-focused, and ETF-related themes.\n",
    "\n",
    "To move beyond association and probe causality, we implement Granger causality tests in both directions. The forward-direction tests (attention → volume) confirm that investor attention often holds predictive power over subsequent trading activity. For example, the ETF and Stock Attention Indexes significantly Granger-cause volume fluctuations in well-known tickers such as 0050.TW, 2330.TW, and 2412.TW, particularly at 1- to 2-week lags. These findings support the behavioral finance hypothesis that retail search behavior reflects emerging market sentiment that may precede action, offering potential utility in short-term forecasting models.\n",
    "\n",
    "Conversely, reverse-direction tests (volume → attention) suggest that trading activity itself can also serve as a predictor of future shifts in attention, especially for highly visible or systemically important stocks like 2330.TW. This implies that investor attention is not purely a leading indicator, but also a reactive one, shaped by market movements. The bidirectional causality highlights the feedback loop between behavioral signals and transactional outcomes: attention can influence market participation, and market events, in turn, drive shifts in attention.\n",
    "\n",
    "Overall, the evidence suggests that Google Trends-based attention indexes are not only correlated with trading volume but may also contain valuable predictive information. However, the strength and direction of this relationship are not uniform—it varies by theme, asset type, and lag structure. This underscores the importance of contextualizing attention metrics rather than applying them indiscriminately. For practitioners and researchers alike, attention data holds promise as a complementary input to traditional financial models, especially when calibrated to the characteristics of specific investor segments or market regimes."
   ]
  }
 ],
 "metadata": {
  "kernelspec": {
   "display_name": "Python [conda env:base] *",
   "language": "python",
   "name": "conda-base-py"
  },
  "language_info": {
   "codemirror_mode": {
    "name": "ipython",
    "version": 3
   },
   "file_extension": ".py",
   "mimetype": "text/x-python",
   "name": "python",
   "nbconvert_exporter": "python",
   "pygments_lexer": "ipython3",
   "version": "3.12.2"
  }
 },
 "nbformat": 4,
 "nbformat_minor": 5
}
