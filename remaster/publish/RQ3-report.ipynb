{
 "cells": [
  {
   "cell_type": "markdown",
   "id": "df2ef73e-ed84-4a7a-84ff-03e346fb14de",
   "metadata": {},
   "source": [
    "# RQ3 - Do macro-level shocks (e.g., Fed decisions) or firm-level shocks affect retail attention and market activity in Taiwan’s ETF sector?"
   ]
  },
  {
   "cell_type": "markdown",
   "id": "9beeafde-389b-4e73-866b-b5536f447ae5",
   "metadata": {},
   "source": [
    "As part of our market research project, we explore whether macro-level events—such as U.S. Federal Reserve policy announcements and high-profile public appearances (e.g., NVIDIA CEO Jensen Huang’s visit to Taiwan)—lead to detectable changes in retail investor behavior. Specifically, we investigate whether such events trigger shifts in retail search interest (proxied by thematic Google Trends attention indexes) and trading activity in selected ETFs or sectors. By comparing periods before, during, and after each event, we aim to uncover systematic behavioral responses in both attention and market participation. These insights can help clarify whether external shocks reliably activate retail investor engagement—valuable knowledge for media strategy, investor relations, and anticipating retail sentiment dynamics."
   ]
  },
  {
   "cell_type": "markdown",
   "id": "dea04f66-748e-46c1-a158-60d0ebad5043",
   "metadata": {},
   "source": [
    "## Analyzing Attention Shifts During Fed Announcement Weeks\n",
    "\n",
    "To evaluate whether U.S. Federal Reserve policy announcements meaningfully shift investor attention, we analyze Google Trends–based attention indexes during weeks that coincide with Fed interest rate decisions. By comparing these attention levels across Fed and non-Fed weeks, we assess whether such macroeconomic events lead to observable increases in public search behavior across thematic investment categories. We use boxplots for visual distributional comparison and independent t-tests to identify statistically significant differences. This analysis helps clarify whether central bank signals draw heightened retail awareness, providing insight into the sensitivity of retail sentiment to macro-level monetary policy events.\n",
    "\n",
    "The results show mixed evidence regarding attention shifts during Fed announcement weeks. Among the six thematic attention indexes, only the Macro_Attention_Index demonstrates a statistically significant increase during Fed weeks (p = 0.0169), suggesting that investors may indeed become more focused on macroeconomic themes in anticipation of central bank policy changes. Other indexes, including those related to ETFs, stocks, dividends, and technology, show no statistically significant changes. This implies that while macro-level monetary signals may capture investor interest on broad economic topics, they do not consistently influence sector-specific attention. These findings highlight the selective nature of retail attention responses and underscore the importance of using multiple indicators when assessing investor sentiment toward macroeconomic events."
   ]
  },
  {
   "cell_type": "markdown",
   "id": "956de7a8-9cde-4b0f-afab-cb83168d0325",
   "metadata": {},
   "source": [
    "## Trading Volume Behavior Around Fed Announcement Weeks\n",
    "To investigate whether actual trading activity mirrors investor attention in response to macroeconomic news, we analyze ETF trading volume patterns around Federal Reserve policy announcement weeks. Building on our earlier examination of attention index movements, we now assess whether shifts in trading behavior occur during the same event windows. By comparing normalized trading volumes during Fed weeks and non-Fed weeks, and applying statistical tests to evaluate their differences, this analysis helps determine whether retail trading activity exhibits measurable sensitivity to macro-level policy signals. This approach offers a more grounded perspective on market reactions—tracking not just what investors are searching for, but what they actually do.\n",
    "\n",
    "The analysis of trading volume around Federal Reserve announcement weeks reveals limited evidence of statistically significant changes across the ETF universe. None of the examined tickers exhibit a p-value below the conventional 5% threshold, and most exceed even more relaxed significance levels. These results suggest that, unlike attention-based signals which showed more noticeable shifts, actual trading activity during Fed weeks remains relatively stable. This may indicate that retail investors are not reacting in aggregate through trade execution, or that institutional participants dominate volume to a degree that masks any attention-induced behavioral shifts. Overall, this finding underscores the importance of distinguishing between expressed interest (e.g., search activity) and realized market behavior, and highlights the limits of macro policy events in triggering broad-based volume responses in Taiwan’s ETF market."
   ]
  },
  {
   "cell_type": "markdown",
   "id": "54229777-e64f-4bf7-b318-d07bc5f451b1",
   "metadata": {},
   "source": [
    "## Investigating Retail Investor Behavior During “Jensen Week”: A Firm-Specific Event Lens\n",
    "\n",
    "To extend our macro-level analysis, we next examine a major firm-specific event: NVIDIA CEO Jensen Huang’s high-profile visit to Taiwan. Garnering extensive media coverage, the event may have influenced investor attention and trading behavior—especially within tech-oriented and semiconductor-related ETFs. This section investigates whether retail sentiment (captured via Google Trends–based attention indexes) and actual trading volumes exhibited notable shifts during the three-week window surrounding the visit. By comparing pre-event, event-week, and post-event activity, we aim to detect whether publicity-driven firm exposure can significantly shape investor engagement. This helps assess the market's sensitivity to corporate presence and firm-specific narrative momentum, providing insight into how publicity events impact both sentiment signals and real capital flows.\n",
    "\n",
    "The results from Jensen Week analysis reveal a notable divergence between attention shifts and trading activity. While most attention indexes did not exhibit statistically significant changes, the Beginner_Attention_Index stands out with a meaningful increase, indicating that less experienced investors may have been particularly responsive to the media coverage surrounding Jensen Huang’s visit. On the other hand, trading volume data shows a broader and more consistent pattern of significant increases across a wide range of ETF tickers, especially those related to semiconductors and technology. This suggests that market participants—possibly institutional or algorithmic—acted decisively in response to perceived signals during the event window. The discrepancy between attention and trading responses emphasizes the value of analyzing both sentiment and behavior: attention signals can reveal where interest is concentrated, while volume changes reflect concrete market engagement. Together, they provide a more complete view of how macro-level publicity events shape retail market dynamics."
   ]
  },
  {
   "cell_type": "markdown",
   "id": "94c1627a-4374-472a-80be-521ab3561e2b",
   "metadata": {},
   "source": [
    "## Conclusion - Synthesizing Insights Across Macro and Firm-Level Retail Investor Responses"
   ]
  },
  {
   "cell_type": "markdown",
   "id": "8b4c457b-a6d9-4666-86d1-6228fe6b7b44",
   "metadata": {},
   "source": [
    "Our investigation into retail investor behavior surrounding macroeconomic shocks and firm-specific events reveals important nuances in how attention and trading activity respond to external signals. At the macro level, U.S. Federal Reserve announcement weeks show limited influence on aggregate trading behavior and only marginal shifts in attention—primarily in broad macroeconomic indexes—suggesting that retail investors may not consistently reorient their focus or adjust their trades in response to central bank policy timing. This points to a selective sensitivity in sentiment, where awareness may rise without translating into actionable changes in market activity.\n",
    "\n",
    "In contrast, the firm-specific “Jensen Week” event—centered on NVIDIA CEO Jensen Huang’s high-profile visit to Taiwan—demonstrates a more pronounced effect, particularly among less experienced retail investors. The Beginner_Attention_Index exhibited a statistically significant increase, and trading volume surged across a wide array of ETF tickers, especially those linked to semiconductors and technology. This indicates that media-driven firm narratives can evoke measurable behavioral responses, not only in attention but also in capital flow, likely amplified by institutional actors responding to retail cues or public sentiment.\n",
    "\n",
    "Together, these findings underscore two key takeaways: first, the asymmetry between attention and trading signals highlights the importance of separating sentiment shifts from actual market impact; second, event type matters—while macro-level shocks offer diffuse and inconsistent behavioral cues, concrete firm-specific catalysts with strong media salience may exert a clearer influence. For policymakers, financial communicators, and ETF strategists, this dual-track sensitivity framework offers a more granular understanding of how and when retail investors engage with market-moving narratives."
   ]
  }
 ],
 "metadata": {
  "kernelspec": {
   "display_name": "Python [conda env:base] *",
   "language": "python",
   "name": "conda-base-py"
  },
  "language_info": {
   "codemirror_mode": {
    "name": "ipython",
    "version": 3
   },
   "file_extension": ".py",
   "mimetype": "text/x-python",
   "name": "python",
   "nbconvert_exporter": "python",
   "pygments_lexer": "ipython3",
   "version": "3.12.2"
  }
 },
 "nbformat": 4,
 "nbformat_minor": 5
}
